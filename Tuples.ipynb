{
  "nbformat": 4,
  "nbformat_minor": 0,
  "metadata": {
    "colab": {
      "name": "Tuples.ipynb",
      "provenance": [],
      "collapsed_sections": [],
      "authorship_tag": "ABX9TyMurz+rvI3JUpzBof+uijvb",
      "include_colab_link": true
    },
    "kernelspec": {
      "name": "python3",
      "display_name": "Python 3"
    },
    "language_info": {
      "name": "python"
    }
  },
  "cells": [
    {
      "cell_type": "markdown",
      "metadata": {
        "id": "view-in-github",
        "colab_type": "text"
      },
      "source": [
        "<a href=\"https://colab.research.google.com/github/Yashthon/Asterisk-Pattern-Printing/blob/master/Tuples.ipynb\" target=\"_parent\"><img src=\"https://colab.research.google.com/assets/colab-badge.svg\" alt=\"Open In Colab\"/></a>"
      ]
    },
    {
      "cell_type": "markdown",
      "source": [
        "# Tupels\n",
        "# A tuple is similar to that of list with a difference that we can not change elements of a tuple once it is asssigned, a tuple is created by using rounded parathesis() seperating the elemets with a comma ,"
      ],
      "metadata": {
        "id": "vOtowAF4fyr1"
      }
    },
    {
      "cell_type": "code",
      "source": [
        "# creating a tuple\n",
        "tuple_ds = ()"
      ],
      "metadata": {
        "id": "oxKWxweWf-uw"
      },
      "execution_count": null,
      "outputs": []
    },
    {
      "cell_type": "code",
      "source": [
        "type(tuple_ds)"
      ],
      "metadata": {
        "colab": {
          "base_uri": "https://localhost:8080/"
        },
        "id": "nGuP53HygL5l",
        "outputId": "8d8def0b-685c-4d6a-fd84-ec9ed475cea5"
      },
      "execution_count": null,
      "outputs": [
        {
          "output_type": "execute_result",
          "data": {
            "text/plain": [
              "tuple"
            ]
          },
          "metadata": {},
          "execution_count": 2
        }
      ]
    },
    {
      "cell_type": "code",
      "source": [
        "tuple_ds = (1,2,3,4,5)"
      ],
      "metadata": {
        "id": "tjNjl5Bsgc-F"
      },
      "execution_count": null,
      "outputs": []
    },
    {
      "cell_type": "code",
      "source": [
        "print(tuple_ds)"
      ],
      "metadata": {
        "colab": {
          "base_uri": "https://localhost:8080/"
        },
        "id": "4P4t53m0gd94",
        "outputId": "1a84ada8-4518-454f-8bee-33b78fd7a9ec"
      },
      "execution_count": null,
      "outputs": [
        {
          "output_type": "stream",
          "name": "stdout",
          "text": [
            "(1, 2, 3, 4, 5)\n"
          ]
        }
      ]
    },
    {
      "cell_type": "code",
      "source": [
        "tuple_ds = (12,)"
      ],
      "metadata": {
        "id": "MN4y-pWDgh29"
      },
      "execution_count": null,
      "outputs": []
    },
    {
      "cell_type": "code",
      "source": [
        "type(tuple_ds)"
      ],
      "metadata": {
        "colab": {
          "base_uri": "https://localhost:8080/"
        },
        "id": "hEZ9KxcIgqB3",
        "outputId": "0c8c2d24-4227-4c3e-afbb-77267229a98e"
      },
      "execution_count": null,
      "outputs": [
        {
          "output_type": "execute_result",
          "data": {
            "text/plain": [
              "tuple"
            ]
          },
          "metadata": {},
          "execution_count": 10
        }
      ]
    },
    {
      "cell_type": "code",
      "source": [
        "print(tuple_ds)"
      ],
      "metadata": {
        "colab": {
          "base_uri": "https://localhost:8080/"
        },
        "id": "rJl6xcXygtGD",
        "outputId": "e8e1c990-d6e0-428a-fd81-a6d48e03b653"
      },
      "execution_count": null,
      "outputs": [
        {
          "output_type": "stream",
          "name": "stdout",
          "text": [
            "12\n"
          ]
        }
      ]
    },
    {
      "cell_type": "code",
      "source": [
        "# Accessing tuple\n",
        "tuple_ds = (1,2,3,4,5, 'tuple_example',5,5.5)"
      ],
      "metadata": {
        "id": "lTx2uwn5gwRq"
      },
      "execution_count": null,
      "outputs": []
    },
    {
      "cell_type": "code",
      "source": [
        "print(tuple_ds)"
      ],
      "metadata": {
        "colab": {
          "base_uri": "https://localhost:8080/"
        },
        "id": "9vUJrXAHhM0Z",
        "outputId": "77e96151-2e5a-4a04-e29b-38575d43436f"
      },
      "execution_count": null,
      "outputs": [
        {
          "output_type": "stream",
          "name": "stdout",
          "text": [
            "(1, 2, 3, 4, 5, 'tuple_example', 5, 5.5)\n"
          ]
        }
      ]
    },
    {
      "cell_type": "code",
      "source": [
        "for t in tuple_ds:\n",
        "  print(t)"
      ],
      "metadata": {
        "colab": {
          "base_uri": "https://localhost:8080/"
        },
        "id": "tFbJC944hR9B",
        "outputId": "1496d4d0-916d-406b-c59d-2f12fe19b188"
      },
      "execution_count": null,
      "outputs": [
        {
          "output_type": "stream",
          "name": "stdout",
          "text": [
            "1\n",
            "2\n",
            "3\n",
            "4\n",
            "5\n",
            "tuple_example\n",
            "5\n",
            "5.5\n"
          ]
        }
      ]
    },
    {
      "cell_type": "code",
      "source": [
        "print(tuple_ds)\n",
        "print(tuple_ds[0])\n",
        "print(tuple_ds[:])\n",
        "print(tuple_ds[5][4])\n",
        "print(tuple_ds[-1])\n"
      ],
      "metadata": {
        "colab": {
          "base_uri": "https://localhost:8080/"
        },
        "id": "Nx-nUoXDhdoS",
        "outputId": "26e04783-b928-4a41-904d-dc4752d30f31"
      },
      "execution_count": null,
      "outputs": [
        {
          "output_type": "stream",
          "name": "stdout",
          "text": [
            "(1, 2, 3, 4, 5, 'tuple_example', 5, 5.5)\n",
            "1\n",
            "(1, 2, 3, 4, 5, 'tuple_example', 5, 5.5)\n",
            "e\n",
            "5.5\n"
          ]
        }
      ]
    },
    {
      "cell_type": "markdown",
      "source": [
        ""
      ],
      "metadata": {
        "id": "r6kyhhQNgRXb"
      }
    },
    {
      "cell_type": "code",
      "source": [
        "# Appending Tuple\n",
        "t = (1,2,3,4,5,'Append',5.55)\n",
        "t = t + (23,24,25) #add elements\n",
        "print(t)"
      ],
      "metadata": {
        "colab": {
          "base_uri": "https://localhost:8080/"
        },
        "id": "ksXNZAt8iUq_",
        "outputId": "077d3f11-cd82-45e4-e8d0-35f56f006852"
      },
      "execution_count": null,
      "outputs": [
        {
          "output_type": "stream",
          "name": "stdout",
          "text": [
            "(1, 2, 3, 4, 5, 'Append', 5.55, 23, 24, 25)\n"
          ]
        }
      ]
    },
    {
      "cell_type": "code",
      "source": [
        "nestuple = (12,12,24, [45,56,67],\"Hello\")\n",
        "print(nestuple[3][1])"
      ],
      "metadata": {
        "colab": {
          "base_uri": "https://localhost:8080/"
        },
        "id": "xn-zvl-SipRF",
        "outputId": "6f2208cb-8097-4555-f75f-d6432b3abeed"
      },
      "execution_count": null,
      "outputs": [
        {
          "output_type": "stream",
          "name": "stdout",
          "text": [
            "56\n"
          ]
        }
      ]
    },
    {
      "cell_type": "code",
      "source": [
        "deltuple = (10,20,30,40,50)\n",
        "print(deltuple)"
      ],
      "metadata": {
        "colab": {
          "base_uri": "https://localhost:8080/"
        },
        "id": "De-pZja6kQGS",
        "outputId": "c44e3aca-7ee7-4251-a2d3-3df55d518140"
      },
      "execution_count": null,
      "outputs": [
        {
          "output_type": "stream",
          "name": "stdout",
          "text": [
            "(10, 20, 30, 40, 50)\n"
          ]
        }
      ]
    },
    {
      "cell_type": "code",
      "source": [
        "del deltuple"
      ],
      "metadata": {
        "id": "lysj1Bqtkqn5"
      },
      "execution_count": null,
      "outputs": []
    },
    {
      "cell_type": "markdown",
      "source": [
        "Dictionary:\n",
        "A dictionary is created by using \"{}\" it consistes of key value pairs, it is an unordered collection of items. The values can be of any data type and can repeat, however keys must be of immutable type and must be unique."
      ],
      "metadata": {
        "id": "7tEr9nw8lKaU"
      }
    },
    {
      "cell_type": "code",
      "source": [
        "dict1 = {}\n",
        "print(dict1)"
      ],
      "metadata": {
        "colab": {
          "base_uri": "https://localhost:8080/"
        },
        "id": "NGNzXFogksxh",
        "outputId": "80b4f32b-da0e-4245-d998-46efa7ec66f4"
      },
      "execution_count": null,
      "outputs": [
        {
          "output_type": "stream",
          "name": "stdout",
          "text": [
            "{}\n"
          ]
        }
      ]
    },
    {
      "cell_type": "code",
      "source": [
        "dict1 = {1:'AI', 2:'Python', 3:'JAVA'}\n",
        "print(dict1)"
      ],
      "metadata": {
        "colab": {
          "base_uri": "https://localhost:8080/"
        },
        "id": "2x37mASVkvha",
        "outputId": "402067ec-256a-45f8-925d-0a82e7d672a5"
      },
      "execution_count": null,
      "outputs": [
        {
          "output_type": "stream",
          "name": "stdout",
          "text": [
            "{1: 'AI', 2: 'Python', 3: 'JAVA'}\n"
          ]
        }
      ]
    },
    {
      "cell_type": "code",
      "source": [
        "dict1[3]"
      ],
      "metadata": {
        "colab": {
          "base_uri": "https://localhost:8080/",
          "height": 35
        },
        "id": "yULHJ7XUmZ2t",
        "outputId": "9a0b9cba-2fa7-4dd9-9fb9-2253c0f16648"
      },
      "execution_count": null,
      "outputs": [
        {
          "output_type": "execute_result",
          "data": {
            "application/vnd.google.colaboratory.intrinsic+json": {
              "type": "string"
            },
            "text/plain": [
              "'JAVA'"
            ]
          },
          "metadata": {},
          "execution_count": 30
        }
      ]
    },
    {
      "cell_type": "code",
      "source": [
        "dict1[3]='Cloud Computing' # changing the value of the dictionary"
      ],
      "metadata": {
        "id": "doUjvBwimfxM"
      },
      "execution_count": null,
      "outputs": []
    },
    {
      "cell_type": "code",
      "source": [
        "dict1"
      ],
      "metadata": {
        "colab": {
          "base_uri": "https://localhost:8080/"
        },
        "id": "JjZGVodVm2XH",
        "outputId": "c3309fe4-3c50-459b-82af-3c10cc14eea5"
      },
      "execution_count": null,
      "outputs": [
        {
          "output_type": "execute_result",
          "data": {
            "text/plain": [
              "{1: 'AI', 2: 'Python', 3: 'Cloud Computing'}"
            ]
          },
          "metadata": {},
          "execution_count": 33
        }
      ]
    },
    {
      "cell_type": "code",
      "source": [
        "# Accessing\n",
        "print(dict1[1])\n",
        "print(dict1.get(2))\n",
        "print(dict1.keys)\n",
        "print(dict1.values)\n",
        "print(dict1.items)"
      ],
      "metadata": {
        "colab": {
          "base_uri": "https://localhost:8080/"
        },
        "id": "bSupc74Em_NV",
        "outputId": "1a13b5d7-ae4d-413c-e7ab-cc787365e677"
      },
      "execution_count": null,
      "outputs": [
        {
          "output_type": "stream",
          "name": "stdout",
          "text": [
            "AI\n",
            "Python\n",
            "<built-in method keys of dict object at 0x7f99392900a0>\n",
            "<built-in method values of dict object at 0x7f99392900a0>\n",
            "<built-in method items of dict object at 0x7f99392900a0>\n"
          ]
        }
      ]
    },
    {
      "cell_type": "code",
      "source": [
        "# Deleting\n",
        "popedvalue = dict1.pop(3)\n",
        "print(\"Value:\", popedvalue)\n",
        "print(\"Dictionary:\", dict1)\n",
        "popkeyvalue = dict1.popitem()\n",
        "print(\"Key, value pair\", popkeyvalue)\n",
        "print(\"Dictionary\", dict1)\n",
        "dict1.clear()\n",
        "print(\"ndict\",dict1)"
      ],
      "metadata": {
        "id": "VODG5WIEndXT"
      },
      "execution_count": null,
      "outputs": []
    },
    {
      "cell_type": "markdown",
      "source": [
        "Set:\n",
        "A set is immutable, it is a unique collection of elements. However, as a whole the set is mutable, ie, we can add and remove elements.\n",
        "There are 2 ways of creating sets by using {} and by using set function. "
      ],
      "metadata": {
        "id": "RSlgRzEOpZYR"
      }
    },
    {
      "cell_type": "code",
      "source": [
        "set_ds = {1,2,3,4,5,9,6,4,8,7,8,9}\n",
        "print(set_ds)"
      ],
      "metadata": {
        "colab": {
          "base_uri": "https://localhost:8080/"
        },
        "id": "idqJgefMo7Cu",
        "outputId": "36bd4584-0c3a-4c1e-d4e1-c1636e1f376c"
      },
      "execution_count": null,
      "outputs": [
        {
          "output_type": "stream",
          "name": "stdout",
          "text": [
            "{1, 2, 3, 4, 5, 6, 7, 8, 9}\n"
          ]
        }
      ]
    },
    {
      "cell_type": "code",
      "source": [
        "set_ds.add(55)\n",
        "print(set_ds)"
      ],
      "metadata": {
        "colab": {
          "base_uri": "https://localhost:8080/"
        },
        "id": "QVszWLAXqmx8",
        "outputId": "015416e1-b94f-488f-dc8e-ad9f337be427"
      },
      "execution_count": null,
      "outputs": [
        {
          "output_type": "stream",
          "name": "stdout",
          "text": [
            "{1, 2, 3, 4, 5, 6, 7, 8, 9, 55}\n"
          ]
        }
      ]
    },
    {
      "cell_type": "code",
      "source": [
        "a = set('1,5,8,4,2,7,0,6')\n",
        "print(a)\n",
        "type(a)\n",
        "b = set([1,4,6,7,9])\n",
        "print(b)\n",
        "type(b)"
      ],
      "metadata": {
        "colab": {
          "base_uri": "https://localhost:8080/"
        },
        "id": "haOAcVojq6M0",
        "outputId": "7bd89416-0302-4947-ba0b-408431235881"
      },
      "execution_count": null,
      "outputs": [
        {
          "output_type": "stream",
          "name": "stdout",
          "text": [
            "{'6', '4', '7', '8', '5', ',', '1', '0', '2'}\n",
            "{1, 4, 6, 7, 9}\n"
          ]
        },
        {
          "output_type": "execute_result",
          "data": {
            "text/plain": [
              "set"
            ]
          },
          "metadata": {},
          "execution_count": 53
        }
      ]
    },
    {
      "cell_type": "code",
      "source": [
        "# Operations\n",
        "set_ds1 = {10,20,30,40,50}\n",
        "set_ds2 = {10,35,67,54,89}\n",
        "print(set_ds1.union(set_ds2))\n",
        "print(set_ds1.intersection(set_ds2))\n",
        "print(set_ds1.difference(set_ds2))\n"
      ],
      "metadata": {
        "colab": {
          "base_uri": "https://localhost:8080/"
        },
        "id": "pdDLjAj1qusZ",
        "outputId": "37c53973-8e38-4dac-95cf-e76442b1dade"
      },
      "execution_count": null,
      "outputs": [
        {
          "output_type": "stream",
          "name": "stdout",
          "text": [
            "{67, 35, 40, 10, 50, 20, 54, 89, 30}\n",
            "{10}\n",
            "{40, 50, 20, 30}\n"
          ]
        }
      ]
    },
    {
      "cell_type": "code",
      "source": [
        "set_ds1.clear()"
      ],
      "metadata": {
        "id": "W8A_etAbt2Jm"
      },
      "execution_count": null,
      "outputs": []
    },
    {
      "cell_type": "code",
      "source": [
        "print(set_ds1)"
      ],
      "metadata": {
        "colab": {
          "base_uri": "https://localhost:8080/"
        },
        "id": "BFen-3_puBo7",
        "outputId": "db31c902-8066-4ca4-df8f-b4f32f9a3f07"
      },
      "execution_count": null,
      "outputs": [
        {
          "output_type": "stream",
          "name": "stdout",
          "text": [
            "set()\n"
          ]
        }
      ]
    },
    {
      "cell_type": "markdown",
      "source": [
        "Control statements"
      ],
      "metadata": {
        "id": "ElT0XFtVuq64"
      }
    },
    {
      "cell_type": "code",
      "source": [
        "setFlag = True\n",
        "if setFlag:\n",
        "  print(\"Good afternoon\")\n",
        "  print(\"Solve assignment\")\n",
        "  setFlag = False\n",
        "if setFlag:\n",
        "  print(\"Good afternoon\")\n",
        "  print(\"Solve assignment\")\n",
        "print(\"Executed false\")"
      ],
      "metadata": {
        "colab": {
          "base_uri": "https://localhost:8080/"
        },
        "id": "7iyDpYRCuqdB",
        "outputId": "f1be9733-03fd-44d7-c7c1-5d6d2da6d4e9"
      },
      "execution_count": null,
      "outputs": [
        {
          "output_type": "stream",
          "name": "stdout",
          "text": [
            "Good afternoon\n",
            "Solve assignment\n",
            "Executed false\n"
          ]
        }
      ]
    },
    {
      "cell_type": "code",
      "source": [
        "n = int(input(\"Enter number\"))\n",
        "if (n < 5):\n",
        "    print(\"Number is less than 5\")\n",
        "else:\n",
        "    print(\"Number is greater than 5\")\n"
      ],
      "metadata": {
        "colab": {
          "base_uri": "https://localhost:8080/"
        },
        "id": "ZVqtal3luEu-",
        "outputId": "dfeac6de-94b3-42a1-96ee-525f08db4f59"
      },
      "execution_count": null,
      "outputs": [
        {
          "output_type": "stream",
          "name": "stdout",
          "text": [
            "Enter number4\n",
            "Number is less than 5\n"
          ]
        }
      ]
    },
    {
      "cell_type": "code",
      "source": [
        "\n",
        "list_ds = [1,2,3,4,5]\n",
        "square_of_no = 0\n",
        "for values in list_ds:\n",
        "  square_of_no = values*values\n",
        "  print(square_of_no)"
      ],
      "metadata": {
        "colab": {
          "base_uri": "https://localhost:8080/"
        },
        "id": "LukxdSaiv7eu",
        "outputId": "09c23c00-65f9-456d-dd00-c7f665db0d1c"
      },
      "execution_count": null,
      "outputs": [
        {
          "output_type": "stream",
          "name": "stdout",
          "text": [
            "1\n",
            "4\n",
            "9\n",
            "16\n",
            "25\n"
          ]
        }
      ]
    },
    {
      "cell_type": "code",
      "source": [
        ""
      ],
      "metadata": {
        "id": "2iC9Oe7fxuNq"
      },
      "execution_count": null,
      "outputs": []
    }
  ]
}